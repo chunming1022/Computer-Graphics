{
  "nbformat": 4,
  "nbformat_minor": 0,
  "metadata": {
    "colab": {
      "provenance": [],
      "authorship_tag": "ABX9TyMF5aCmjTO8WKXRbnN60lJc",
      "include_colab_link": true
    },
    "kernelspec": {
      "name": "python3",
      "display_name": "Python 3"
    },
    "language_info": {
      "name": "python"
    }
  },
  "cells": [
    {
      "cell_type": "markdown",
      "metadata": {
        "id": "view-in-github",
        "colab_type": "text"
      },
      "source": [
        "<a href=\"https://colab.research.google.com/github/chunming1022/Computer-Graphics/blob/main/%E7%9B%B4%E7%BA%BF%E8%A3%81%E5%89%AA.ipynb\" target=\"_parent\"><img src=\"https://colab.research.google.com/assets/colab-badge.svg\" alt=\"Open In Colab\"/></a>"
      ]
    },
    {
      "cell_type": "code",
      "execution_count": null,
      "metadata": {
        "colab": {
          "base_uri": "https://localhost:8080/",
          "height": 517
        },
        "id": "aLbIm4DwvK1Z",
        "outputId": "c6ed66b4-107c-481c-f007-5760aeca7a87"
      },
      "outputs": [
        {
          "output_type": "display_data",
          "data": {
            "text/plain": [
              "<PIL.Image.Image image mode=RGB size=800x500 at 0x7F1B84067790>"
            ],
            "image/png": "[encoded data removed]"
          },
          "metadata": {}
        }
      ],
      "source": [
        "import numpy as np\n",
        "import cv2\n",
        "from google.colab.patches import cv2_imshow\n",
        "\n",
        "LEFT = 1\n",
        "RIGHT = 2\n",
        "BOTTOM = 4\n",
        "TOP = 8\n",
        "\n",
        "xl = 300\n",
        "xr = 500\n",
        "yb = 150\n",
        "yt = 350  # 窗口的边界值\n",
        "\n",
        "# Create a black image\n",
        "img = np.zeros((500, 800, 3), np.uint8)  # 相当于建立画布\n",
        "\n",
        "\n",
        "# 编码\n",
        "def encode(x, y):\n",
        "    c = 0\n",
        "    if x < xl:\n",
        "        c = c | LEFT\n",
        "    if x > xr:\n",
        "        c = c | RIGHT\n",
        "    if y < yb:\n",
        "        c = c | BOTTOM\n",
        "    if y > yt:\n",
        "        c = c | TOP\n",
        "    return c\n",
        "\n",
        "\n",
        "# cohen-sutherland 算法\n",
        "def CohenSutherland(x1, y1, x2, y2):\n",
        "    code1 = encode(x1, y1)\n",
        "    code2 = encode(x2, y2)\n",
        "    outcode = code1  # outcode是总在窗口外的那个端点\n",
        "    x, y = 0, 0\n",
        "    area = False  # 设置一个是否满足条件的区分标志\n",
        "    while True:\n",
        "        if (code2 | code1) == 0:\n",
        "            area = True\n",
        "            break\n",
        "        if (code1 & code2) != 0:  # 简弃之\n",
        "            break\n",
        "        if code1 == 0:  # 开始求交点\n",
        "            outcode = code2\n",
        "        if (LEFT & outcode) != 0:  # 与窗口左边界相交\n",
        "            x = xl\n",
        "            y = y1 + (y2 - y1) * (xl - x1) / (x2 - x1)\n",
        "        elif (RIGHT & outcode) != 0:\n",
        "            x = xr\n",
        "            y = y1 + (y2 - y1) * (xr - x1) / (x2 - x1)\n",
        "        elif (BOTTOM & outcode) != 0:\n",
        "            y = yb\n",
        "            x = x1 + (x2 - x1) * (yb - y1) / (y2 - y1)\n",
        "        elif (TOP & outcode) != 0:\n",
        "            y = yt\n",
        "            x = x1 + (x2 - x1) * (yt - y1) / (y2 - y1)\n",
        "        x = int(x)  # 转换为整型\n",
        "        y = int(y)\n",
        "        if outcode == code1:\n",
        "            # print('hhh')  # 测试用\n",
        "            x1 = x\n",
        "            y1 = y\n",
        "            code1 = encode(x, y)\n",
        "        else:\n",
        "            # print('eee')\n",
        "            x2 = x\n",
        "            y2 = y\n",
        "            code2 = encode(x, y)\n",
        "    if area == True:  # 若满足条件即可划线\n",
        "        cv2.line(img, (x1, y1), (x2, y2), (0, 255, 255))  # 这里传递的点的坐标必须是整型，否则出错\n",
        "    return\n",
        "\n",
        "\n",
        "def main():   # 主函数\n",
        "    cv2.rectangle(img, (300, 150), (500, 350), 255)\n",
        "    \n",
        "\n",
        "    # 窗口裁剪直线        这里是显示裁剪之后的样子\n",
        "    CohenSutherland(0, 0, 260, 260)  # 传递直线起点和终点坐标\n",
        "    CohenSutherland(400, 50, 200, 400)\n",
        "    CohenSutherland(350, 100, 450, 400)\n",
        "    CohenSutherland(150, 250, 650, 250)\n",
        "    CohenSutherland(400, 75, 400, 425)\n",
        "    CohenSutherland(350, 300, 450, 200)\n",
        "    # test()\n",
        "\n",
        "    # 窗口显示图形\n",
        "    cv2.imwrite('out1.jpg', img)  # 生成一张图片\n",
        "    cv2_imshow(img)  # 显示图像\n",
        "\n",
        "\n",
        "if __name__ == '__main__':\n",
        "    main()\n",
        "    # print('now __name__ is %s' % __name__)"
      ]
    }
  ]
}